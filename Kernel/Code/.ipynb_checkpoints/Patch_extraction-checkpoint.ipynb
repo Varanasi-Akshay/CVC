{
 "cells": [
  {
   "cell_type": "code",
   "execution_count": 19,
   "metadata": {},
   "outputs": [
    {
     "name": "stderr",
     "output_type": "stream",
     "text": [
      "/home/akshay/anaconda3/lib/python3.6/site-packages/sklearn/datasets/base.py:762: DeprecationWarning: `imread` is deprecated!\n",
      "`imread` is deprecated in SciPy 1.0.0, and will be removed in 1.2.0.\n",
      "Use ``imageio.imread`` instead.\n",
      "  images = [imread(filename) for filename in filenames]\n",
      "/home/akshay/anaconda3/lib/python3.6/site-packages/sklearn/datasets/base.py:762: DeprecationWarning: `imread` is deprecated!\n",
      "`imread` is deprecated in SciPy 1.0.0, and will be removed in 1.2.0.\n",
      "Use ``imageio.imread`` instead.\n",
      "  images = [imread(filename) for filename in filenames]\n"
     ]
    },
    {
     "data": {
      "text/plain": [
       "(427, 640, 3)"
      ]
     },
     "execution_count": 19,
     "metadata": {},
     "output_type": "execute_result"
    }
   ],
   "source": [
    "from sklearn.datasets import load_sample_image\n",
    "from sklearn.feature_extraction import image\n",
    "one_image = load_sample_image(\"china.jpg\")\n",
    "one_image.shape"
   ]
  },
  {
   "cell_type": "code",
   "execution_count": 20,
   "metadata": {},
   "outputs": [
    {
     "name": "stdout",
     "output_type": "stream",
     "text": [
      "Image shape: (427, 640, 3)\n",
      "Patches shape: (272214, 2, 2, 3)\n"
     ]
    }
   ],
   "source": [
    "# from matplotlib.pyplot import imshow\n",
    "# image = one_image[:,:,1] # X[0].reshape(w,h).T #assuming X[0] is of shape (400,)\n",
    "# image.shape\n",
    "# imshow(image, cmap='gray')\n",
    "\n",
    "print('Image shape: {}'.format(one_image.shape))\n",
    "patches = image.extract_patches_2d(one_image, (2, 2))\n",
    "print('Patches shape: {}'.format(patches.shape))"
   ]
  },
  {
   "cell_type": "code",
   "execution_count": 5,
   "metadata": {},
   "outputs": [
    {
     "name": "stdout",
     "output_type": "stream",
     "text": [
      "[[[174 201 231]\n",
      "  [174 201 231]]\n",
      "\n",
      " [[173 200 230]\n",
      "  [173 200 230]]]\n"
     ]
    }
   ],
   "source": [
    "print(patches[1]) "
   ]
  },
  {
   "cell_type": "code",
   "execution_count": 6,
   "metadata": {},
   "outputs": [
    {
     "name": "stdout",
     "output_type": "stream",
     "text": [
      "[[[187 214 243]\n",
      "  [188 215 244]]\n",
      "\n",
      " [[187 214 243]\n",
      "  [188 215 244]]]\n"
     ]
    }
   ],
   "source": [
    "print(patches[800])"
   ]
  },
  {
   "cell_type": "code",
   "execution_count": null,
   "metadata": {},
   "outputs": [],
   "source": [
    "from matplotlib.pyplot import imshow\n",
    "image = one_image[:,:,1] # X[0].reshape(w,h).T #assuming X[0] is of shape (400,)\n",
    "image.shape\n",
    "imshow(image, cmap='gray')"
   ]
  }
 ],
 "metadata": {
  "kernelspec": {
   "display_name": "Python 3",
   "language": "python",
   "name": "python3"
  },
  "language_info": {
   "codemirror_mode": {
    "name": "ipython",
    "version": 3
   },
   "file_extension": ".py",
   "mimetype": "text/x-python",
   "name": "python",
   "nbconvert_exporter": "python",
   "pygments_lexer": "ipython3",
   "version": "3.6.5"
  }
 },
 "nbformat": 4,
 "nbformat_minor": 2
}
