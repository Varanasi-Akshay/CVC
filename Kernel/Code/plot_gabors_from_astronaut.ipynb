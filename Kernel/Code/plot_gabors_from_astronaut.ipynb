{
 "cells": [
  {
   "cell_type": "code",
   "execution_count": 1,
   "metadata": {},
   "outputs": [],
   "source": [
    "%matplotlib inline"
   ]
  },
  {
   "cell_type": "markdown",
   "metadata": {},
   "source": [
    "\n",
    "============================================================\n",
    "Gabors / Primary Visual Cortex \"Simple Cells\" from an Image\n",
    "============================================================\n",
    "\n",
    "How to build a (bio-plausible) *sparse* dictionary (or 'codebook', or\n",
    "'filterbank') for e.g. image classification without any fancy math and\n",
    "with just standard python scientific libraries?\n",
    "\n",
    "Please find below a short answer ;-)\n",
    "\n",
    "This simple example shows how to get Gabor-like filters [1]_ using just\n",
    "a simple image. In our example, we use a photograph of the astronaut Eileen\n",
    "Collins. Gabor filters are good approximations of the \"Simple Cells\" [2]_\n",
    "receptive fields [3]_ found in the mammalian primary visual cortex (V1)\n",
    "(for details, see e.g. the Nobel-prize winning work of Hubel & Wiesel done\n",
    "in the 60s [4]_ [5]_).\n",
    "\n",
    "Here we use McQueen's 'kmeans' algorithm [6]_, as a simple biologically\n",
    "plausible hebbian-like learning rule and we apply it (a) to patches of\n",
    "the original image (retinal projection), and (b) to patches of an\n",
    "LGN-like [7]_ image using a simple difference of gaussians (DoG)\n",
    "approximation.\n",
    "\n",
    "Enjoy ;-) And keep in mind that getting Gabors on natural image patches\n",
    "is not rocket science.\n",
    "\n",
    ".. [1] https://en.wikipedia.org/wiki/Gabor_filter\n",
    ".. [2] https://en.wikipedia.org/wiki/Simple_cell\n",
    ".. [3] https://en.wikipedia.org/wiki/Receptive_field\n",
    ".. [4] D. H. Hubel and T. N., Wiesel Receptive Fields of Single Neurones\n",
    "       in the Cat's Striate Cortex, J. Physiol. pp. 574-591 (148) 1959\n",
    ".. [5] D. H. Hubel and T. N., Wiesel Receptive Fields, Binocular\n",
    "       Interaction, and Functional Architecture in the Cat's Visual Cortex,\n",
    "       J. Physiol. 160 pp.  106-154 1962\n",
    ".. [6] https://en.wikipedia.org/wiki/K-means_clustering\n",
    ".. [7] https://en.wikipedia.org/wiki/Lateral_geniculate_nucleus\n",
    "\n"
   ]
  },
  {
   "cell_type": "code",
   "execution_count": 2,
   "metadata": {},
   "outputs": [
    {
     "name": "stderr",
     "output_type": "stream",
     "text": [
      "/home/akshay/anaconda3/lib/python3.6/site-packages/scipy/cluster/vq.py:525: UserWarning: One of the clusters is empty. Re-run kmeans with a different initialization.\n",
      "  warnings.warn(\"One of the clusters is empty. \"\n"
     ]
    },
    {
     "ename": "TypeError",
     "evalue": "'module' object is not callable",
     "output_type": "error",
     "traceback": [
      "\u001b[0;31m---------------------------------------------------------------------------\u001b[0m",
      "\u001b[0;31mTypeError\u001b[0m                                 Traceback (most recent call last)",
      "\u001b[0;32m<ipython-input-2-ee3d6d2c71ef>\u001b[0m in \u001b[0;36m<module>\u001b[0;34m()\u001b[0m\n\u001b[1;32m     21\u001b[0m \u001b[0mfb1\u001b[0m\u001b[0;34m,\u001b[0m \u001b[0m_\u001b[0m \u001b[0;34m=\u001b[0m \u001b[0mkmeans2\u001b[0m\u001b[0;34m(\u001b[0m\u001b[0mpatches1\u001b[0m\u001b[0;34m,\u001b[0m \u001b[0mn_filters\u001b[0m\u001b[0;34m,\u001b[0m \u001b[0mminit\u001b[0m\u001b[0;34m=\u001b[0m\u001b[0;34m'points'\u001b[0m\u001b[0;34m)\u001b[0m\u001b[0;34m\u001b[0m\u001b[0m\n\u001b[1;32m     22\u001b[0m \u001b[0mfb1\u001b[0m \u001b[0;34m=\u001b[0m \u001b[0mfb1\u001b[0m\u001b[0;34m.\u001b[0m\u001b[0mreshape\u001b[0m\u001b[0;34m(\u001b[0m\u001b[0;34m(\u001b[0m\u001b[0;34m-\u001b[0m\u001b[0;36m1\u001b[0m\u001b[0;34m,\u001b[0m\u001b[0;34m)\u001b[0m \u001b[0;34m+\u001b[0m \u001b[0mpatch_shape\u001b[0m\u001b[0;34m)\u001b[0m\u001b[0;34m\u001b[0m\u001b[0m\n\u001b[0;32m---> 23\u001b[0;31m \u001b[0mfb1_montage\u001b[0m \u001b[0;34m=\u001b[0m \u001b[0mmontage\u001b[0m\u001b[0;34m(\u001b[0m\u001b[0mfb1\u001b[0m\u001b[0;34m,\u001b[0m \u001b[0mrescale_intensity\u001b[0m\u001b[0;34m=\u001b[0m\u001b[0;32mTrue\u001b[0m\u001b[0;34m)\u001b[0m\u001b[0;34m\u001b[0m\u001b[0m\n\u001b[0m\u001b[1;32m     24\u001b[0m \u001b[0;34m\u001b[0m\u001b[0m\n\u001b[1;32m     25\u001b[0m \u001b[0;31m# -- filterbank2 LGN-like image\u001b[0m\u001b[0;34m\u001b[0m\u001b[0;34m\u001b[0m\u001b[0m\n",
      "\u001b[0;31mTypeError\u001b[0m: 'module' object is not callable"
     ]
    }
   ],
   "source": [
    "import numpy as np\n",
    "from scipy.cluster.vq import kmeans2\n",
    "from scipy import ndimage as ndi\n",
    "import matplotlib.pyplot as plt\n",
    "\n",
    "from skimage import data\n",
    "from skimage import color\n",
    "from skimage.util.shape import view_as_windows\n",
    "from skimage.util import montage\n",
    "\n",
    "np.random.seed(42)\n",
    "\n",
    "patch_shape = 8, 8\n",
    "n_filters = 49\n",
    "\n",
    "astro = color.rgb2gray(data.astronaut())\n",
    "\n",
    "# -- filterbank1 on original image\n",
    "patches1 = view_as_windows(astro, patch_shape)\n",
    "patches1 = patches1.reshape(-1, patch_shape[0] * patch_shape[1])[::8]\n",
    "fb1, _ = kmeans2(patches1, n_filters, minit='points')\n",
    "fb1 = fb1.reshape((-1,) + patch_shape)\n",
    "fb1_montage = montage(fb1, rescale_intensity=True)\n",
    "\n",
    "# -- filterbank2 LGN-like image\n",
    "astro_dog = ndi.gaussian_filter(astro, .5) - ndi.gaussian_filter(astro, 1)\n",
    "patches2 = view_as_windows(astro_dog, patch_shape)\n",
    "patches2 = patches2.reshape(-1, patch_shape[0] * patch_shape[1])[::8]\n",
    "fb2, _ = kmeans2(patches2, n_filters, minit='points')\n",
    "fb2 = fb2.reshape((-1,) + patch_shape)\n",
    "fb2_montage = montage(fb2, rescale_intensity=True)\n",
    "\n",
    "# -- plotting\n",
    "fig, axes = plt.subplots(2, 2, figsize=(7, 6))\n",
    "ax = axes.ravel()\n",
    "\n",
    "ax[0].imshow(astro, cmap=plt.cm.gray)\n",
    "ax[0].set_title(\"Image (original)\")\n",
    "\n",
    "ax[1].imshow(fb1_montage, cmap=plt.cm.gray, interpolation='nearest')\n",
    "ax[1].set_title(\"K-means filterbank (codebook)\\non original image\")\n",
    "\n",
    "ax[2].imshow(astro_dog, cmap=plt.cm.gray)\n",
    "ax[2].set_title(\"Image (LGN-like DoG)\")\n",
    "\n",
    "ax[3].imshow(fb2_montage, cmap=plt.cm.gray, interpolation='nearest')\n",
    "ax[3].set_title(\"K-means filterbank (codebook)\\non LGN-like DoG image\")\n",
    "\n",
    "for a in ax.ravel():\n",
    "    a.axis('off')\n",
    "\n",
    "fig.tight_layout()\n",
    "plt.show()"
   ]
  }
 ],
 "metadata": {
  "kernelspec": {
   "display_name": "Python 3",
   "language": "python",
   "name": "python3"
  },
  "language_info": {
   "codemirror_mode": {
    "name": "ipython",
    "version": 3
   },
   "file_extension": ".py",
   "mimetype": "text/x-python",
   "name": "python",
   "nbconvert_exporter": "python",
   "pygments_lexer": "ipython3",
   "version": "3.6.5"
  }
 },
 "nbformat": 4,
 "nbformat_minor": 1
}
